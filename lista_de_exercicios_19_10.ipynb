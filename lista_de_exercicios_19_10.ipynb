{
  "nbformat": 4,
  "nbformat_minor": 0,
  "metadata": {
    "colab": {
      "provenance": [],
      "authorship_tag": "ABX9TyO13dwU5lgyDJBP8Sd4TCsM",
      "include_colab_link": true
    },
    "kernelspec": {
      "name": "python3",
      "display_name": "Python 3"
    },
    "language_info": {
      "name": "python"
    }
  },
  "cells": [
    {
      "cell_type": "markdown",
      "metadata": {
        "id": "view-in-github",
        "colab_type": "text"
      },
      "source": [
        "<a href=\"https://colab.research.google.com/github/WesleySouza13/Listas-de-exercicios-/blob/main/lista_de_exercicios_19_10.ipynb\" target=\"_parent\"><img src=\"https://colab.research.google.com/assets/colab-badge.svg\" alt=\"Open In Colab\"/></a>"
      ]
    },
    {
      "cell_type": "markdown",
      "source": [
        "Exercício 1 (e Solução )\n",
        "Crie um programa que peça ao usuário para digitar seu nome e sua idade. Imprima uma mensagem endereçada a ele que diga o ano em que ele fará 100 anos. Nota: para este exercício, a expectativa é que você escreva explicitamente o ano (e, portanto, esteja desatualizado no ano seguinte). Se quiser fazer isso de forma genérica, veja o exercício 39 ."
      ],
      "metadata": {
        "id": "-FBnM6bYqbBP"
      }
    },
    {
      "cell_type": "code",
      "execution_count": null,
      "metadata": {
        "colab": {
          "base_uri": "https://localhost:8080/"
        },
        "id": "z3iCHkikoxsq",
        "outputId": "01a76f2b-f82d-4956-81c5-f625df06889e"
      },
      "outputs": [
        {
          "name": "stdout",
          "output_type": "stream",
          "text": [
            "digite seu nome:10\n",
            "digite sua idade atual:10\n",
            "digite seu ano atual:2024\n"
          ]
        }
      ],
      "source": [
        "nome = input('digite seu nome:')\n",
        "idade_atual = int(input('digite sua idade atual:'))\n",
        "ano_atual = int(input('digite seu ano atual:'))\n",
        "ano_que_nasceu = ano_atual - idade_atual\n",
        "\n"
      ]
    },
    {
      "cell_type": "code",
      "source": [
        "cem_anos = ano_que_nasceu + 100\n",
        "\n",
        "\n",
        "\n"
      ],
      "metadata": {
        "id": "7HMxlb4WphZt"
      },
      "execution_count": null,
      "outputs": []
    },
    {
      "cell_type": "code",
      "source": [
        "print('{} nasceu em {} e vai completar 100 anos em {} '.format(nome,ano_que_nasceu,cem_anos))"
      ],
      "metadata": {
        "colab": {
          "base_uri": "https://localhost:8080/"
        },
        "id": "v_l3NK5YqJpA",
        "outputId": "22720712-0540-4075-d9e5-f71d5f26108c"
      },
      "execution_count": null,
      "outputs": [
        {
          "output_type": "stream",
          "name": "stdout",
          "text": [
            "10 nasceu em 2014 e vai completar 100 anos em 2114 \n"
          ]
        }
      ]
    },
    {
      "cell_type": "markdown",
      "source": [
        "Exercício 2 (e Solução )\n",
        "O exercício vem primeiro (com alguns extras se você quiser um desafio extra ou quiser gastar mais tempo), seguido por uma discussão. Divirta-se!\n",
        "\n",
        "Peça um número ao usuário. Dependendo se o número é par ou ímpar, imprima uma mensagem apropriada para o usuário. Dica: como um número par/ímpar reage de forma diferente quando dividido por 2?"
      ],
      "metadata": {
        "id": "ESbawmCZqpFC"
      }
    },
    {
      "cell_type": "markdown",
      "source": [
        "Extras:\n",
        "\n",
        "Se o número for múltiplo de 4, imprima uma mensagem diferente.\n",
        "Peça ao usuário dois números: um número para verificar (chame-o de num) e um número para dividir por ( check). Se checkdividir uniformemente em num, diga isso ao usuário. Se não, imprima uma mensagem apropriada diferente."
      ],
      "metadata": {
        "id": "F5Y9lizqrhvi"
      }
    },
    {
      "cell_type": "code",
      "source": [
        "num = int(input('me de um numero:'))\n",
        "\n",
        "if num %2 == 0:\n",
        "  print('esse numero é par')\n",
        "if num %4 == 0:\n",
        "  print('esse numero é multiplo de 4')\n",
        "else:\n",
        "  print('esse numero é impar')\n"
      ],
      "metadata": {
        "colab": {
          "base_uri": "https://localhost:8080/"
        },
        "id": "ldR703X2qqnQ",
        "outputId": "708fe3cc-1c16-4f8a-f25c-65d454983906"
      },
      "execution_count": null,
      "outputs": [
        {
          "output_type": "stream",
          "name": "stdout",
          "text": [
            "me de um numero:4\n",
            "esse numero é par\n",
            "esse numero é multiplo de 4\n"
          ]
        }
      ]
    },
    {
      "cell_type": "markdown",
      "source": [
        "Pegue uma lista, por exemplo esta:\n",
        "\n",
        "  a = [1, 1, 2, 3, 5, 8, 13, 21, 34, 55, 89]\n",
        "e escreva um programa que imprima todos os elementos da lista que são menores que 5."
      ],
      "metadata": {
        "id": "ioRyXbwKr17o"
      }
    },
    {
      "cell_type": "code",
      "source": [
        "a = [1, 1, 2, 3, 5, 8, 13, 21, 34, 55, 89]"
      ],
      "metadata": {
        "id": "gkz7Wcqjr6f8"
      },
      "execution_count": null,
      "outputs": []
    },
    {
      "cell_type": "code",
      "source": [
        "for x in a:\n",
        "  if x<5: print(x)\n",
        "print( [ x for x in a if x<5 ] )\n"
      ],
      "metadata": {
        "colab": {
          "base_uri": "https://localhost:8080/"
        },
        "id": "fRspi1aBsA1W",
        "outputId": "e9fb6b57-2f04-4793-bc6a-45399619de08"
      },
      "execution_count": null,
      "outputs": [
        {
          "output_type": "stream",
          "name": "stdout",
          "text": [
            "1\n",
            "1\n",
            "2\n",
            "3\n",
            "[1, 1, 2, 3]\n"
          ]
        }
      ]
    },
    {
      "cell_type": "markdown",
      "source": [
        "Exercício 4 (e Solução )\n",
        "Crie um programa que peça um número ao usuário e então imprima uma lista de todos os divisores desse número. (Se você não sabe o que é um divisor , é um número que divide uniformemente em outro número. Por exemplo, 13 é um divisor de 26 porque 26/13 não tem resto.)"
      ],
      "metadata": {
        "id": "Uw0NWxasuWeR"
      }
    },
    {
      "cell_type": "code",
      "source": [
        "num = int(input('digite um numero inteiro:'))"
      ],
      "metadata": {
        "colab": {
          "base_uri": "https://localhost:8080/"
        },
        "id": "4-SQ-xCKuN4f",
        "outputId": "ee99e3ef-df5d-4ad8-ba5f-7f7661f1afcd"
      },
      "execution_count": null,
      "outputs": [
        {
          "name": "stdout",
          "output_type": "stream",
          "text": [
            "digite um numero inteiro:10\n"
          ]
        }
      ]
    },
    {
      "cell_type": "markdown",
      "source": [
        "Pegue duas listas, digamos por exemplo estas duas:\n",
        "\n",
        "  a = [1, 1, 2, 3, 5, 8, 13, 21, 34, 55, 89]\n",
        "  b = [1, 2, 3, 4, 5, 6, 7, 8, 9, 10, 11, 12, 13]\n",
        "e escreva um programa que retorne uma lista que contenha apenas os elementos que são comuns entre as listas (sem duplicatas). Certifique-se de que seu programa funcione em duas listas de tamanhos diferentes."
      ],
      "metadata": {
        "id": "RA9XwGthw3fA"
      }
    },
    {
      "cell_type": "code",
      "source": [
        "lista = list(range(1, num+1))\n",
        "divisor = []\n",
        "for x in lista:\n",
        "  if num % x == 0:\n",
        "    divisor.append(x)\n",
        "\n",
        "print(divisor)"
      ],
      "metadata": {
        "colab": {
          "base_uri": "https://localhost:8080/"
        },
        "id": "jKjr5leMuaqI",
        "outputId": "da4bb170-6167-4f73-c028-fc9e141dcc7b"
      },
      "execution_count": null,
      "outputs": [
        {
          "output_type": "stream",
          "name": "stdout",
          "text": [
            "[1, 2, 5, 10]\n"
          ]
        }
      ]
    },
    {
      "cell_type": "code",
      "source": [
        "a = [1, 1, 2, 3, 5, 8, 13, 21, 34, 55, 89]\n",
        "b = [1, 2, 3, 4, 5, 6, 7, 8, 9, 10, 11, 12, 13]\n",
        "print(set(a[x] for x in range(len(a))if a[x] in b))"
      ],
      "metadata": {
        "colab": {
          "base_uri": "https://localhost:8080/"
        },
        "id": "Z7qrmLLlv9HO",
        "outputId": "aab6992f-4431-41ff-e85f-37d1ab29c1d5"
      },
      "execution_count": null,
      "outputs": [
        {
          "output_type": "stream",
          "name": "stdout",
          "text": [
            "{1, 2, 3, 5, 8, 13}\n"
          ]
        }
      ]
    },
    {
      "cell_type": "markdown",
      "source": [
        "Exercício 6 (e Solução )\n",
        "Peça ao usuário uma string e imprima se essa string é um palíndromo ou não. (Um palíndromo é uma string que é lida da mesma forma para frente e para trás.)"
      ],
      "metadata": {
        "id": "RV1qesbjw6a3"
      }
    },
    {
      "cell_type": "code",
      "source": [
        "palavra = str(input('digite uma palavra:'))\n",
        "reverso = palavra[::-1]\n",
        "print(reverso)"
      ],
      "metadata": {
        "colab": {
          "base_uri": "https://localhost:8080/"
        },
        "id": "1VLMGQz9wwt_",
        "outputId": "504e1eac-7453-4502-cc9f-3697aa975ac7"
      },
      "execution_count": null,
      "outputs": [
        {
          "output_type": "stream",
          "name": "stdout",
          "text": [
            "digite uma palavra:ovo\n",
            "ovo\n"
          ]
        }
      ]
    },
    {
      "cell_type": "code",
      "source": [
        "if palavra == reverso:\n",
        "  print('a palavra é {} e o reverso dela tambem é {}, logo sao palíndromos!'.format(palavra,reverso))\n",
        "else:\n",
        "  print('nao sao palíndromos')"
      ],
      "metadata": {
        "colab": {
          "base_uri": "https://localhost:8080/"
        },
        "id": "QtFvohQgzHuH",
        "outputId": "7d8b4b15-83e0-4126-822c-97e9d4b12f8c"
      },
      "execution_count": null,
      "outputs": [
        {
          "output_type": "stream",
          "name": "stdout",
          "text": [
            "a palavra é ovo e o reverso dela tambem é ovo, logo sao palíndromos!\n"
          ]
        }
      ]
    },
    {
      "cell_type": "markdown",
      "source": [
        "Exercício 7 (e solução )\n",
        "Digamos que eu lhe dê uma lista salva em uma variável: a = [1, 4, 9, 16, 25, 36, 49, 64, 81, 100]. Escreva uma linha de Python que pegue essa lista ae crie uma nova lista que tenha apenas os elementos pares dessa lista."
      ],
      "metadata": {
        "id": "sbvhYHikjH4a"
      }
    },
    {
      "cell_type": "code",
      "source": [
        "a = [1, 4, 9, 16, 25, 36, 49,]\n",
        "nova_lista = [[number for number in a if number % 2 == 0]]\n",
        "print(nova_lista)\n"
      ],
      "metadata": {
        "colab": {
          "base_uri": "https://localhost:8080/"
        },
        "id": "bAqykxfAjINu",
        "outputId": "6d360364-df27-4d12-92b4-c250f4d134d0"
      },
      "execution_count": null,
      "outputs": [
        {
          "output_type": "stream",
          "name": "stdout",
          "text": [
            "[[4, 16, 36]]\n"
          ]
        }
      ]
    },
    {
      "cell_type": "markdown",
      "source": [
        "Exercício 9 (e solução )\n",
        "Gere um número aleatório entre 1 e 9 (incluindo 1 e 9). Peça ao usuário para adivinhar o número, então diga a ele se ele ganhou ou não"
      ],
      "metadata": {
        "id": "XzYkdj7Inybp"
      }
    },
    {
      "cell_type": "code",
      "source": [
        "import random\n",
        "entrada  = int(input('digite um numero de 1 a 9:'))\n",
        "num = random.randint(1,10)\n",
        "\n",
        "if entrada == num:\n",
        "  print('parabens, vc ganhou!')\n",
        "\n",
        "else:\n",
        "  print('perdeu')\n"
      ],
      "metadata": {
        "colab": {
          "base_uri": "https://localhost:8080/"
        },
        "id": "3cmg3G_kns82",
        "outputId": "4133c80d-8ed6-460a-aa5e-5458ecabcb10"
      },
      "execution_count": null,
      "outputs": [
        {
          "output_type": "stream",
          "name": "stdout",
          "text": [
            "digite um numero de 1 a 9:9\n",
            "perdeu\n"
          ]
        }
      ]
    },
    {
      "cell_type": "markdown",
      "source": [],
      "metadata": {
        "id": "2tsJZYX2pOr3"
      }
    },
    {
      "cell_type": "markdown",
      "source": [
        "Exercício 10 (e Solução )\n",
        "O exercício desta semana revisitará um exercício antigo (veja Exercício 5 ), exceto que exigirá a solução de uma maneira diferente.\n",
        "\n",
        "Pegue duas listas, digamos por exemplo estas duas:\n",
        "\n",
        "\ta = [1, 1, 2, 3, 5, 8, 13, 21, 34, 55, 89]\n",
        "\tb = [1, 2, 3, 4, 5, 6, 7, 8, 9, 10, 11, 12, 13]\n",
        "  e escreva um programa que retorne uma lista que contenha apenas os elementos que são comuns entre as listas (sem duplicatas). Certifique-se de que seu programa funcione em duas listas de tamanhos diferentes. Escreva isso em uma linha de Python usando pelo menos uma compreensão de lista . ( Dica: Lembre-se das compreensões de lista do Exercício 7 )."
      ],
      "metadata": {
        "id": "-1b409gzpWj-"
      }
    },
    {
      "cell_type": "code",
      "source": [
        "lista = list(range(1, num+1))\n",
        "divisor = []\n",
        "for x in lista:\n",
        "  if num % x == 0:\n",
        "    divisor.append(x)\n",
        "\n",
        "print(divisor)"
      ],
      "metadata": {
        "colab": {
          "base_uri": "https://localhost:8080/"
        },
        "id": "XfXxPyQapWI3",
        "outputId": "9e1b3706-ceb1-4381-bf25-0e81f3ad83f1"
      },
      "execution_count": null,
      "outputs": [
        {
          "output_type": "stream",
          "name": "stdout",
          "text": [
            "[1, 3]\n"
          ]
        }
      ]
    }
  ]
}